{
 "cells": [
  {
   "cell_type": "markdown",
   "id": "214eb176",
   "metadata": {},
   "source": [
    "## Supervised Learning and Basic Deep learning - Predicting Insurance PreProject - Hiep (Andrew) Nguyen"
   ]
  },
  {
   "cell_type": "markdown",
   "id": "706761cd",
   "metadata": {},
   "source": [
    "### Introduction"
   ]
  },
  {
   "cell_type": "code",
   "execution_count": 2,
   "id": "006f0569",
   "metadata": {},
   "outputs": [],
   "source": [
    "import numpy as np\n",
    "import pandas as pd\n",
    "import matplotlib.pyplot as plt\n",
    "import matplotlib.cm as cm\n",
    "from sklearn.preprocessing import StandardScaler\n",
    "from sklearn.model_selection import train_test_split\n",
    "from sklearn.model_selection import GridSearchCV \n",
    "from sklearn.model_selection import cross_val_score\n",
    "from sklearn import metrics\n",
    "from sklearn.metrics import accuracy_score\n",
    "from sklearn.metrics import r2_score\n",
    "from sklearn.linear_model import LinearRegression\n",
    "from sklearn.linear_model import Ridge\n",
    "from sklearn.linear_model import Lasso\n",
    "from sklearn.ensemble import GradientBoostingRegressor\n",
    "from xgboost import XGBRegressor\n",
    "from sklearn.tree import DecisionTreeRegressor\n",
    "from sklearn.ensemble import RandomForestRegressor\n",
    "import seaborn as sns; \n",
    "sns.axes_style(\"whitegrid\")\n",
    "sns.set_context(\"paper\")\n",
    "np.random.seed(0)\n",
    "import warnings\n",
    "warnings.filterwarnings('ignore')\n",
    "import tensorflow as tf"
   ]
  },
  {
   "cell_type": "code",
   "execution_count": 3,
   "id": "7acb07cc",
   "metadata": {},
   "outputs": [],
   "source": [
    "# Upload the csv file\n",
    "premium = pd.read_csv('Medicalpremium.csv')\n"
   ]
  },
  {
   "cell_type": "code",
   "execution_count": 4,
   "id": "05ab7cd1",
   "metadata": {},
   "outputs": [
    {
     "data": {
      "text/html": [
       "<div>\n",
       "<style scoped>\n",
       "    .dataframe tbody tr th:only-of-type {\n",
       "        vertical-align: middle;\n",
       "    }\n",
       "\n",
       "    .dataframe tbody tr th {\n",
       "        vertical-align: top;\n",
       "    }\n",
       "\n",
       "    .dataframe thead th {\n",
       "        text-align: right;\n",
       "    }\n",
       "</style>\n",
       "<table border=\"1\" class=\"dataframe\">\n",
       "  <thead>\n",
       "    <tr style=\"text-align: right;\">\n",
       "      <th></th>\n",
       "      <th>Age</th>\n",
       "      <th>Diabetes</th>\n",
       "      <th>BloodPressureProblems</th>\n",
       "      <th>AnyTransplants</th>\n",
       "      <th>AnyChronicDiseases</th>\n",
       "      <th>Height</th>\n",
       "      <th>Weight</th>\n",
       "      <th>KnownAllergies</th>\n",
       "      <th>HistoryOfCancerInFamily</th>\n",
       "      <th>NumberOfMajorSurgeries</th>\n",
       "      <th>PremiumPrice</th>\n",
       "    </tr>\n",
       "  </thead>\n",
       "  <tbody>\n",
       "    <tr>\n",
       "      <th>0</th>\n",
       "      <td>45</td>\n",
       "      <td>0</td>\n",
       "      <td>0</td>\n",
       "      <td>0</td>\n",
       "      <td>0</td>\n",
       "      <td>155</td>\n",
       "      <td>57</td>\n",
       "      <td>0</td>\n",
       "      <td>0</td>\n",
       "      <td>0</td>\n",
       "      <td>25000</td>\n",
       "    </tr>\n",
       "    <tr>\n",
       "      <th>1</th>\n",
       "      <td>60</td>\n",
       "      <td>1</td>\n",
       "      <td>0</td>\n",
       "      <td>0</td>\n",
       "      <td>0</td>\n",
       "      <td>180</td>\n",
       "      <td>73</td>\n",
       "      <td>0</td>\n",
       "      <td>0</td>\n",
       "      <td>0</td>\n",
       "      <td>29000</td>\n",
       "    </tr>\n",
       "    <tr>\n",
       "      <th>2</th>\n",
       "      <td>36</td>\n",
       "      <td>1</td>\n",
       "      <td>1</td>\n",
       "      <td>0</td>\n",
       "      <td>0</td>\n",
       "      <td>158</td>\n",
       "      <td>59</td>\n",
       "      <td>0</td>\n",
       "      <td>0</td>\n",
       "      <td>1</td>\n",
       "      <td>23000</td>\n",
       "    </tr>\n",
       "    <tr>\n",
       "      <th>3</th>\n",
       "      <td>52</td>\n",
       "      <td>1</td>\n",
       "      <td>1</td>\n",
       "      <td>0</td>\n",
       "      <td>1</td>\n",
       "      <td>183</td>\n",
       "      <td>93</td>\n",
       "      <td>0</td>\n",
       "      <td>0</td>\n",
       "      <td>2</td>\n",
       "      <td>28000</td>\n",
       "    </tr>\n",
       "    <tr>\n",
       "      <th>4</th>\n",
       "      <td>38</td>\n",
       "      <td>0</td>\n",
       "      <td>0</td>\n",
       "      <td>0</td>\n",
       "      <td>1</td>\n",
       "      <td>166</td>\n",
       "      <td>88</td>\n",
       "      <td>0</td>\n",
       "      <td>0</td>\n",
       "      <td>1</td>\n",
       "      <td>23000</td>\n",
       "    </tr>\n",
       "    <tr>\n",
       "      <th>...</th>\n",
       "      <td>...</td>\n",
       "      <td>...</td>\n",
       "      <td>...</td>\n",
       "      <td>...</td>\n",
       "      <td>...</td>\n",
       "      <td>...</td>\n",
       "      <td>...</td>\n",
       "      <td>...</td>\n",
       "      <td>...</td>\n",
       "      <td>...</td>\n",
       "      <td>...</td>\n",
       "    </tr>\n",
       "    <tr>\n",
       "      <th>981</th>\n",
       "      <td>18</td>\n",
       "      <td>0</td>\n",
       "      <td>0</td>\n",
       "      <td>0</td>\n",
       "      <td>0</td>\n",
       "      <td>169</td>\n",
       "      <td>67</td>\n",
       "      <td>0</td>\n",
       "      <td>0</td>\n",
       "      <td>0</td>\n",
       "      <td>15000</td>\n",
       "    </tr>\n",
       "    <tr>\n",
       "      <th>982</th>\n",
       "      <td>64</td>\n",
       "      <td>1</td>\n",
       "      <td>1</td>\n",
       "      <td>0</td>\n",
       "      <td>0</td>\n",
       "      <td>153</td>\n",
       "      <td>70</td>\n",
       "      <td>0</td>\n",
       "      <td>0</td>\n",
       "      <td>3</td>\n",
       "      <td>28000</td>\n",
       "    </tr>\n",
       "    <tr>\n",
       "      <th>983</th>\n",
       "      <td>56</td>\n",
       "      <td>0</td>\n",
       "      <td>1</td>\n",
       "      <td>0</td>\n",
       "      <td>0</td>\n",
       "      <td>155</td>\n",
       "      <td>71</td>\n",
       "      <td>0</td>\n",
       "      <td>0</td>\n",
       "      <td>1</td>\n",
       "      <td>29000</td>\n",
       "    </tr>\n",
       "    <tr>\n",
       "      <th>984</th>\n",
       "      <td>47</td>\n",
       "      <td>1</td>\n",
       "      <td>1</td>\n",
       "      <td>0</td>\n",
       "      <td>0</td>\n",
       "      <td>158</td>\n",
       "      <td>73</td>\n",
       "      <td>1</td>\n",
       "      <td>0</td>\n",
       "      <td>1</td>\n",
       "      <td>39000</td>\n",
       "    </tr>\n",
       "    <tr>\n",
       "      <th>985</th>\n",
       "      <td>21</td>\n",
       "      <td>0</td>\n",
       "      <td>0</td>\n",
       "      <td>0</td>\n",
       "      <td>0</td>\n",
       "      <td>158</td>\n",
       "      <td>75</td>\n",
       "      <td>1</td>\n",
       "      <td>0</td>\n",
       "      <td>1</td>\n",
       "      <td>15000</td>\n",
       "    </tr>\n",
       "  </tbody>\n",
       "</table>\n",
       "<p>986 rows × 11 columns</p>\n",
       "</div>"
      ],
      "text/plain": [
       "     Age  Diabetes  BloodPressureProblems  AnyTransplants  AnyChronicDiseases  \\\n",
       "0     45         0                      0               0                   0   \n",
       "1     60         1                      0               0                   0   \n",
       "2     36         1                      1               0                   0   \n",
       "3     52         1                      1               0                   1   \n",
       "4     38         0                      0               0                   1   \n",
       "..   ...       ...                    ...             ...                 ...   \n",
       "981   18         0                      0               0                   0   \n",
       "982   64         1                      1               0                   0   \n",
       "983   56         0                      1               0                   0   \n",
       "984   47         1                      1               0                   0   \n",
       "985   21         0                      0               0                   0   \n",
       "\n",
       "     Height  Weight  KnownAllergies  HistoryOfCancerInFamily  \\\n",
       "0       155      57               0                        0   \n",
       "1       180      73               0                        0   \n",
       "2       158      59               0                        0   \n",
       "3       183      93               0                        0   \n",
       "4       166      88               0                        0   \n",
       "..      ...     ...             ...                      ...   \n",
       "981     169      67               0                        0   \n",
       "982     153      70               0                        0   \n",
       "983     155      71               0                        0   \n",
       "984     158      73               1                        0   \n",
       "985     158      75               1                        0   \n",
       "\n",
       "     NumberOfMajorSurgeries  PremiumPrice  \n",
       "0                         0         25000  \n",
       "1                         0         29000  \n",
       "2                         1         23000  \n",
       "3                         2         28000  \n",
       "4                         1         23000  \n",
       "..                      ...           ...  \n",
       "981                       0         15000  \n",
       "982                       3         28000  \n",
       "983                       1         29000  \n",
       "984                       1         39000  \n",
       "985                       1         15000  \n",
       "\n",
       "[986 rows x 11 columns]"
      ]
     },
     "execution_count": 4,
     "metadata": {},
     "output_type": "execute_result"
    }
   ],
   "source": [
    "premium"
   ]
  },
  {
   "cell_type": "code",
   "execution_count": 5,
   "id": "38f225cf",
   "metadata": {},
   "outputs": [
    {
     "data": {
      "text/html": [
       "<div>\n",
       "<style scoped>\n",
       "    .dataframe tbody tr th:only-of-type {\n",
       "        vertical-align: middle;\n",
       "    }\n",
       "\n",
       "    .dataframe tbody tr th {\n",
       "        vertical-align: top;\n",
       "    }\n",
       "\n",
       "    .dataframe thead th {\n",
       "        text-align: right;\n",
       "    }\n",
       "</style>\n",
       "<table border=\"1\" class=\"dataframe\">\n",
       "  <thead>\n",
       "    <tr style=\"text-align: right;\">\n",
       "      <th></th>\n",
       "      <th>Age</th>\n",
       "      <th>Diabetes</th>\n",
       "      <th>BloodPressureProblems</th>\n",
       "      <th>AnyTransplants</th>\n",
       "      <th>AnyChronicDiseases</th>\n",
       "      <th>Height</th>\n",
       "      <th>Weight</th>\n",
       "      <th>KnownAllergies</th>\n",
       "      <th>HistoryOfCancerInFamily</th>\n",
       "      <th>NumberOfMajorSurgeries</th>\n",
       "      <th>PremiumPrice</th>\n",
       "    </tr>\n",
       "  </thead>\n",
       "  <tbody>\n",
       "    <tr>\n",
       "      <th>count</th>\n",
       "      <td>986.000000</td>\n",
       "      <td>986.000000</td>\n",
       "      <td>986.000000</td>\n",
       "      <td>986.000000</td>\n",
       "      <td>986.000000</td>\n",
       "      <td>986.000000</td>\n",
       "      <td>986.000000</td>\n",
       "      <td>986.000000</td>\n",
       "      <td>986.000000</td>\n",
       "      <td>986.000000</td>\n",
       "      <td>986.000000</td>\n",
       "    </tr>\n",
       "    <tr>\n",
       "      <th>mean</th>\n",
       "      <td>41.745436</td>\n",
       "      <td>0.419878</td>\n",
       "      <td>0.468560</td>\n",
       "      <td>0.055781</td>\n",
       "      <td>0.180527</td>\n",
       "      <td>168.182556</td>\n",
       "      <td>76.950304</td>\n",
       "      <td>0.215010</td>\n",
       "      <td>0.117647</td>\n",
       "      <td>0.667343</td>\n",
       "      <td>24336.713996</td>\n",
       "    </tr>\n",
       "    <tr>\n",
       "      <th>std</th>\n",
       "      <td>13.963371</td>\n",
       "      <td>0.493789</td>\n",
       "      <td>0.499264</td>\n",
       "      <td>0.229615</td>\n",
       "      <td>0.384821</td>\n",
       "      <td>10.098155</td>\n",
       "      <td>14.265096</td>\n",
       "      <td>0.411038</td>\n",
       "      <td>0.322353</td>\n",
       "      <td>0.749205</td>\n",
       "      <td>6248.184382</td>\n",
       "    </tr>\n",
       "    <tr>\n",
       "      <th>min</th>\n",
       "      <td>18.000000</td>\n",
       "      <td>0.000000</td>\n",
       "      <td>0.000000</td>\n",
       "      <td>0.000000</td>\n",
       "      <td>0.000000</td>\n",
       "      <td>145.000000</td>\n",
       "      <td>51.000000</td>\n",
       "      <td>0.000000</td>\n",
       "      <td>0.000000</td>\n",
       "      <td>0.000000</td>\n",
       "      <td>15000.000000</td>\n",
       "    </tr>\n",
       "    <tr>\n",
       "      <th>25%</th>\n",
       "      <td>30.000000</td>\n",
       "      <td>0.000000</td>\n",
       "      <td>0.000000</td>\n",
       "      <td>0.000000</td>\n",
       "      <td>0.000000</td>\n",
       "      <td>161.000000</td>\n",
       "      <td>67.000000</td>\n",
       "      <td>0.000000</td>\n",
       "      <td>0.000000</td>\n",
       "      <td>0.000000</td>\n",
       "      <td>21000.000000</td>\n",
       "    </tr>\n",
       "    <tr>\n",
       "      <th>50%</th>\n",
       "      <td>42.000000</td>\n",
       "      <td>0.000000</td>\n",
       "      <td>0.000000</td>\n",
       "      <td>0.000000</td>\n",
       "      <td>0.000000</td>\n",
       "      <td>168.000000</td>\n",
       "      <td>75.000000</td>\n",
       "      <td>0.000000</td>\n",
       "      <td>0.000000</td>\n",
       "      <td>1.000000</td>\n",
       "      <td>23000.000000</td>\n",
       "    </tr>\n",
       "    <tr>\n",
       "      <th>75%</th>\n",
       "      <td>53.000000</td>\n",
       "      <td>1.000000</td>\n",
       "      <td>1.000000</td>\n",
       "      <td>0.000000</td>\n",
       "      <td>0.000000</td>\n",
       "      <td>176.000000</td>\n",
       "      <td>87.000000</td>\n",
       "      <td>0.000000</td>\n",
       "      <td>0.000000</td>\n",
       "      <td>1.000000</td>\n",
       "      <td>28000.000000</td>\n",
       "    </tr>\n",
       "    <tr>\n",
       "      <th>max</th>\n",
       "      <td>66.000000</td>\n",
       "      <td>1.000000</td>\n",
       "      <td>1.000000</td>\n",
       "      <td>1.000000</td>\n",
       "      <td>1.000000</td>\n",
       "      <td>188.000000</td>\n",
       "      <td>132.000000</td>\n",
       "      <td>1.000000</td>\n",
       "      <td>1.000000</td>\n",
       "      <td>3.000000</td>\n",
       "      <td>40000.000000</td>\n",
       "    </tr>\n",
       "  </tbody>\n",
       "</table>\n",
       "</div>"
      ],
      "text/plain": [
       "              Age    Diabetes  BloodPressureProblems  AnyTransplants  \\\n",
       "count  986.000000  986.000000             986.000000      986.000000   \n",
       "mean    41.745436    0.419878               0.468560        0.055781   \n",
       "std     13.963371    0.493789               0.499264        0.229615   \n",
       "min     18.000000    0.000000               0.000000        0.000000   \n",
       "25%     30.000000    0.000000               0.000000        0.000000   \n",
       "50%     42.000000    0.000000               0.000000        0.000000   \n",
       "75%     53.000000    1.000000               1.000000        0.000000   \n",
       "max     66.000000    1.000000               1.000000        1.000000   \n",
       "\n",
       "       AnyChronicDiseases      Height      Weight  KnownAllergies  \\\n",
       "count          986.000000  986.000000  986.000000      986.000000   \n",
       "mean             0.180527  168.182556   76.950304        0.215010   \n",
       "std              0.384821   10.098155   14.265096        0.411038   \n",
       "min              0.000000  145.000000   51.000000        0.000000   \n",
       "25%              0.000000  161.000000   67.000000        0.000000   \n",
       "50%              0.000000  168.000000   75.000000        0.000000   \n",
       "75%              0.000000  176.000000   87.000000        0.000000   \n",
       "max              1.000000  188.000000  132.000000        1.000000   \n",
       "\n",
       "       HistoryOfCancerInFamily  NumberOfMajorSurgeries  PremiumPrice  \n",
       "count               986.000000              986.000000    986.000000  \n",
       "mean                  0.117647                0.667343  24336.713996  \n",
       "std                   0.322353                0.749205   6248.184382  \n",
       "min                   0.000000                0.000000  15000.000000  \n",
       "25%                   0.000000                0.000000  21000.000000  \n",
       "50%                   0.000000                1.000000  23000.000000  \n",
       "75%                   0.000000                1.000000  28000.000000  \n",
       "max                   1.000000                3.000000  40000.000000  "
      ]
     },
     "execution_count": 5,
     "metadata": {},
     "output_type": "execute_result"
    }
   ],
   "source": [
    "premium.describe()"
   ]
  },
  {
   "cell_type": "code",
   "execution_count": 83,
   "id": "678c8055",
   "metadata": {},
   "outputs": [
    {
     "data": {
      "text/plain": [
       "count      986.000000\n",
       "mean     24336.713996\n",
       "std       6248.184382\n",
       "min      15000.000000\n",
       "25%      21000.000000\n",
       "50%      23000.000000\n",
       "75%      28000.000000\n",
       "max      40000.000000\n",
       "Name: PremiumPrice, dtype: float64"
      ]
     },
     "execution_count": 83,
     "metadata": {},
     "output_type": "execute_result"
    }
   ],
   "source": [
    "premium['PremiumPrice'].describe()"
   ]
  },
  {
   "cell_type": "code",
   "execution_count": 6,
   "id": "8ee4c5c3",
   "metadata": {},
   "outputs": [
    {
     "data": {
      "text/plain": [
       "Age                        0\n",
       "Diabetes                   0\n",
       "BloodPressureProblems      0\n",
       "AnyTransplants             0\n",
       "AnyChronicDiseases         0\n",
       "Height                     0\n",
       "Weight                     0\n",
       "KnownAllergies             0\n",
       "HistoryOfCancerInFamily    0\n",
       "NumberOfMajorSurgeries     0\n",
       "PremiumPrice               0\n",
       "dtype: int64"
      ]
     },
     "execution_count": 6,
     "metadata": {},
     "output_type": "execute_result"
    }
   ],
   "source": [
    "premium.isna().sum()"
   ]
  },
  {
   "cell_type": "code",
   "execution_count": 7,
   "id": "fda58705",
   "metadata": {},
   "outputs": [],
   "source": [
    "# 2 variables 'Height' and 'Weight' individually have no mean to express the health conditions of someone. \n",
    "# Instead, we can consider BMI which is a measure of body fat based on height and weight. It is much more useful in our case\n",
    "# Formula: BMI = weight (kg) ÷ height^2 (m)\n",
    "premium['BMI'] = premium['Weight'] / (((premium['Height'])/100)**2)"
   ]
  },
  {
   "cell_type": "code",
   "execution_count": 8,
   "id": "56990d1d",
   "metadata": {},
   "outputs": [
    {
     "data": {
      "text/plain": [
       "0      23.725286\n",
       "1      22.530864\n",
       "2      23.634033\n",
       "3      27.770313\n",
       "4      31.934969\n",
       "         ...    \n",
       "981    23.458562\n",
       "982    29.903029\n",
       "983    29.552549\n",
       "984    29.242109\n",
       "985    30.043262\n",
       "Name: BMI, Length: 986, dtype: float64"
      ]
     },
     "execution_count": 8,
     "metadata": {},
     "output_type": "execute_result"
    }
   ],
   "source": [
    "premium['BMI']"
   ]
  },
  {
   "cell_type": "code",
   "execution_count": 9,
   "id": "89ba2cce",
   "metadata": {},
   "outputs": [],
   "source": [
    "premium = premium.drop(['Height', 'Weight'], axis = 1)"
   ]
  },
  {
   "cell_type": "markdown",
   "id": "fc0ace3d",
   "metadata": {},
   "source": [
    "### EDA"
   ]
  },
  {
   "cell_type": "code",
   "execution_count": 84,
   "id": "42922da7",
   "metadata": {},
   "outputs": [
    {
     "data": {
      "text/plain": [
       "<seaborn.axisgrid.FacetGrid at 0x213178c52b0>"
      ]
     },
     "execution_count": 84,
     "metadata": {},
     "output_type": "execute_result"
    },
    {
     "data": {
      "image/png": "[encoded data removed]",
      "text/plain": [
       "<Figure size 600x360 with 1 Axes>"
      ]
     },
     "metadata": {
      "needs_background": "light"
     },
     "output_type": "display_data"
    }
   ],
   "source": [
    "sns.displot(x='PremiumPrice',data=premium,aspect=10/6, kde=True)"
   ]
  },
  {
   "cell_type": "markdown",
   "id": "39f2628b",
   "metadata": {},
   "source": [
    "not really a Gaussian distribution"
   ]
  },
  {
   "cell_type": "code",
   "execution_count": 11,
   "id": "5b232100",
   "metadata": {},
   "outputs": [
    {
     "data": {
      "image/png": "[encoded data removed]",
      "text/plain": [
       "<Figure size 1008x576 with 2 Axes>"
      ]
     },
     "metadata": {
      "needs_background": "light"
     },
     "output_type": "display_data"
    }
   ],
   "source": [
    "plt.figure(figsize=(14,8))\n",
    "sns.heatmap(premium.corr(), annot = True, cmap='coolwarm',linewidths=.1)\n",
    "plt.title(\"Heatmap for correlation between variables\")\n",
    "plt.show()"
   ]
  },
  {
   "cell_type": "code",
   "execution_count": 80,
   "id": "02b28ef7",
   "metadata": {},
   "outputs": [
    {
     "name": "stdout",
     "output_type": "stream",
     "text": [
      "[0.46050525 0.02395923 0.02476458 0.03795501 0.04944328 0.02495489\n",
      " 0.03444276 0.1537828  0.1901922 ]\n"
     ]
    }
   ],
   "source": [
    "from sklearn.ensemble import ExtraTreesClassifier\n",
    "X=premium.drop('PremiumPrice', axis=1)\n",
    "y=premium['PremiumPrice']\n",
    "model = ExtraTreesClassifier()\n",
    "model.fit(X,y)\n",
    "print(model.feature_importances_)"
   ]
  },
  {
   "cell_type": "code",
   "execution_count": 82,
   "id": "2744abf4",
   "metadata": {},
   "outputs": [
    {
     "data": {
      "image/png": "[encoded data removed]",
      "text/plain": [
       "<Figure size 432x288 with 1 Axes>"
      ]
     },
     "metadata": {
      "needs_background": "light"
     },
     "output_type": "display_data"
    }
   ],
   "source": [
    "feat_imp =pd.Series(model.feature_importances_,index=X.columns)\n",
    "feat_imp.nlargest(10).plot(kind='barh')\n",
    "plt.show()"
   ]
  },
  {
   "cell_type": "code",
   "execution_count": null,
   "id": "614a61ee",
   "metadata": {},
   "outputs": [],
   "source": [
    "for i in df[num]:\n",
    "    fig, axes = plt.subplots(nrows=1,ncols=2,figsize=(8,4))\n",
    "    sns.histplot(df[i],kde=True,ax=axes[0],color='red')\n",
    "    sns.boxplot(df[i],ax=axes[1],color='green')"
   ]
  },
  {
   "cell_type": "code",
   "execution_count": 85,
   "id": "34a08b59",
   "metadata": {},
   "outputs": [
    {
     "data": {
      "text/plain": [
       "<seaborn.axisgrid.FacetGrid at 0x213211a1940>"
      ]
     },
     "execution_count": 85,
     "metadata": {},
     "output_type": "execute_result"
    },
    {
     "data": {
      "image/png": "[encoded data removed]",
      "text/plain": [
       "<Figure size 432x288 with 1 Axes>"
      ]
     },
     "metadata": {
      "needs_background": "light"
     },
     "output_type": "display_data"
    },
    {
     "data": {
      "image/png": "[encoded data removed]",
      "text/plain": [
       "<Figure size 360x360 with 1 Axes>"
      ]
     },
     "metadata": {
      "needs_background": "light"
     },
     "output_type": "display_data"
    }
   ],
   "source": [
    "sns.lineplot(premium['Age'],premium['PremiumPrice'])\n",
    "sns.lmplot(x='Age', y ='PremiumPrice',data=premium)"
   ]
  },
  {
   "cell_type": "code",
   "execution_count": 92,
   "id": "f69f3346",
   "metadata": {},
   "outputs": [
    {
     "data": {
      "text/plain": [
       "Text(0.5, 1.0, 'Distribution of AnyTransplants of users')"
      ]
     },
     "execution_count": 92,
     "metadata": {},
     "output_type": "execute_result"
    },
    {
     "data": {
      "image/png": "[encoded data removed]",
      "text/plain": [
       "<Figure size 1080x1080 with 4 Axes>"
      ]
     },
     "metadata": {
      "needs_background": "light"
     },
     "output_type": "display_data"
    }
   ],
   "source": [
    "f,ax=plt.subplots(2,2,figsize=(15,15))\n",
    "\n",
    "premium.NumberOfMajorSurgeries .plot.hist(bins = 4, edgecolor = 'black',color = 'green',ax=ax[0][0])\n",
    "ax[0][0].set_title('Distribution of NumberOfMajorSurgeries of users')\n",
    "\n",
    "premium.BMI.plot.hist(bins = 25, edgecolor = 'black',color = 'green',ax=ax[0][1])\n",
    "ax[0][1].set_title('Distribution of BMI of users')\n",
    "\n",
    "premium.Age.plot.hist(bins = 25, edgecolor = 'black',color = 'green',ax=ax[1][0])\n",
    "ax[1][0].set_title('Distribution of Age of users')\n",
    "\n",
    "premium.AnyTransplants.plot.hist(bins = 2, edgecolor = 'black',color = 'green',ax=ax[1][1])\n",
    "ax[1][1].set_title('Distribution of AnyTransplants of users')"
   ]
  },
  {
   "cell_type": "markdown",
   "id": "61540fd2",
   "metadata": {},
   "source": [
    "### Model"
   ]
  },
  {
   "cell_type": "code",
   "execution_count": 12,
   "id": "e87cb5c1",
   "metadata": {},
   "outputs": [],
   "source": [
    "X=premium.drop('PremiumPrice', axis=1)\n",
    "y=premium['PremiumPrice']\n",
    "X_train, X_test, y_train, y_test = train_test_split(X,y,test_size=0.3, random_state= 43)"
   ]
  },
  {
   "cell_type": "code",
   "execution_count": 13,
   "id": "406179d1",
   "metadata": {},
   "outputs": [],
   "source": [
    "scaler= StandardScaler()\n",
    "X_train = scaler.fit_transform(X_train)\n",
    "X_test = scaler.transform(X_test)"
   ]
  },
  {
   "cell_type": "markdown",
   "id": "37f7c151",
   "metadata": {},
   "source": [
    "#### Linear Regression"
   ]
  },
  {
   "cell_type": "code",
   "execution_count": 14,
   "id": "7abe6fab",
   "metadata": {},
   "outputs": [
    {
     "data": {
      "text/plain": [
       "LinearRegression()"
      ]
     },
     "execution_count": 14,
     "metadata": {},
     "output_type": "execute_result"
    }
   ],
   "source": [
    "linearReg_model= LinearRegression()\n",
    "linearReg_model.fit(X_train, y_train)"
   ]
  },
  {
   "cell_type": "code",
   "execution_count": 15,
   "id": "a988a504",
   "metadata": {},
   "outputs": [
    {
     "data": {
      "text/plain": [
       "0.6929514302733693"
      ]
     },
     "execution_count": 15,
     "metadata": {},
     "output_type": "execute_result"
    }
   ],
   "source": [
    "r2_score(y_test, linearReg_model.predict(X_test))"
   ]
  },
  {
   "cell_type": "code",
   "execution_count": 16,
   "id": "d71d48af",
   "metadata": {},
   "outputs": [],
   "source": [
    "cv_scores = cross_val_score(linearReg_model, X_train,y_train, cv = 10)"
   ]
  },
  {
   "cell_type": "code",
   "execution_count": 17,
   "id": "1377fe61",
   "metadata": {},
   "outputs": [
    {
     "data": {
      "text/plain": [
       "0.5795019659270289"
      ]
     },
     "execution_count": 17,
     "metadata": {},
     "output_type": "execute_result"
    }
   ],
   "source": [
    "cv_scores.mean()"
   ]
  },
  {
   "cell_type": "code",
   "execution_count": 18,
   "id": "ba6f4150",
   "metadata": {},
   "outputs": [
    {
     "data": {
      "text/plain": [
       "0.09455013673900155"
      ]
     },
     "execution_count": 18,
     "metadata": {},
     "output_type": "execute_result"
    }
   ],
   "source": [
    "cv_scores.std()"
   ]
  },
  {
   "cell_type": "code",
   "execution_count": 19,
   "id": "39e021f9",
   "metadata": {},
   "outputs": [
    {
     "name": "stdout",
     "output_type": "stream",
     "text": [
      "MSE test data: 12859369.044, MAE test data: 2661.290\n"
     ]
    }
   ],
   "source": [
    "X_test_pred = linearReg_model.predict(X_test)\n",
    "\n",
    "print('MSE test data: %.3f, MAE test data: %.3f' % \n",
    "      (metrics.mean_squared_error(X_test_pred, y_test),\n",
    "       metrics.mean_absolute_error(X_test_pred, y_test)))"
   ]
  },
  {
   "cell_type": "markdown",
   "id": "d9b7b1e8",
   "metadata": {},
   "source": [
    "#### Ridge Regression"
   ]
  },
  {
   "cell_type": "code",
   "execution_count": 20,
   "id": "29fc6192",
   "metadata": {},
   "outputs": [
    {
     "data": {
      "text/plain": [
       "Ridge(alpha=1)"
      ]
     },
     "execution_count": 20,
     "metadata": {},
     "output_type": "execute_result"
    }
   ],
   "source": [
    "Ridge_model = Ridge(alpha=1)\n",
    "Ridge_model.fit(X_train, y_train)"
   ]
  },
  {
   "cell_type": "code",
   "execution_count": 21,
   "id": "c5f2bc01",
   "metadata": {},
   "outputs": [
    {
     "data": {
      "text/plain": [
       "0.6928348980778649"
      ]
     },
     "execution_count": 21,
     "metadata": {},
     "output_type": "execute_result"
    }
   ],
   "source": [
    "r2_score(y_test, Ridge_model.predict(X_test))"
   ]
  },
  {
   "cell_type": "code",
   "execution_count": 22,
   "id": "6ba5e808",
   "metadata": {},
   "outputs": [],
   "source": [
    "cv_scores = cross_val_score(Ridge_model, X_train,y_train, cv = 10)"
   ]
  },
  {
   "cell_type": "code",
   "execution_count": 23,
   "id": "98f1128d",
   "metadata": {},
   "outputs": [
    {
     "data": {
      "text/plain": [
       "0.5795470423586175"
      ]
     },
     "execution_count": 23,
     "metadata": {},
     "output_type": "execute_result"
    }
   ],
   "source": [
    "cv_scores.mean()"
   ]
  },
  {
   "cell_type": "code",
   "execution_count": 24,
   "id": "c0f4d44d",
   "metadata": {},
   "outputs": [
    {
     "data": {
      "text/plain": [
       "0.09435441461089994"
      ]
     },
     "execution_count": 24,
     "metadata": {},
     "output_type": "execute_result"
    }
   ],
   "source": [
    "cv_scores.std()"
   ]
  },
  {
   "cell_type": "code",
   "execution_count": 25,
   "id": "3253bd0e",
   "metadata": {},
   "outputs": [
    {
     "name": "stdout",
     "output_type": "stream",
     "text": [
      "MSE test data: 12864249.479, MAE test data: 2662.631\n"
     ]
    }
   ],
   "source": [
    "X_test_pred = Ridge_model.predict(X_test)\n",
    "\n",
    "print('MSE test data: %.3f, MAE test data: %.3f' % \n",
    "      (metrics.mean_squared_error(X_test_pred, y_test),\n",
    "       metrics.mean_absolute_error(X_test_pred, y_test)))"
   ]
  },
  {
   "cell_type": "markdown",
   "id": "f46d0c7f",
   "metadata": {},
   "source": [
    "#### Lasso Regression"
   ]
  },
  {
   "cell_type": "code",
   "execution_count": 26,
   "id": "ddd853ad",
   "metadata": {},
   "outputs": [
    {
     "data": {
      "text/plain": [
       "Lasso(alpha=0.1)"
      ]
     },
     "execution_count": 26,
     "metadata": {},
     "output_type": "execute_result"
    }
   ],
   "source": [
    "Lasso_model = Lasso(alpha=0.1)\n",
    "Lasso_model.fit(X_train, y_train)"
   ]
  },
  {
   "cell_type": "code",
   "execution_count": 27,
   "id": "cefc9c75",
   "metadata": {},
   "outputs": [
    {
     "data": {
      "text/plain": [
       "0.6929538611274888"
      ]
     },
     "execution_count": 27,
     "metadata": {},
     "output_type": "execute_result"
    }
   ],
   "source": [
    "r2_score(y_test, Lasso_model.predict(X_test))"
   ]
  },
  {
   "cell_type": "code",
   "execution_count": 28,
   "id": "6753d63d",
   "metadata": {},
   "outputs": [],
   "source": [
    "cv_scores = cross_val_score(Lasso_model, X_train,y_train, cv = 10)"
   ]
  },
  {
   "cell_type": "code",
   "execution_count": 29,
   "id": "aad06d6c",
   "metadata": {},
   "outputs": [
    {
     "data": {
      "text/plain": [
       "0.5795062286657757"
      ]
     },
     "execution_count": 29,
     "metadata": {},
     "output_type": "execute_result"
    }
   ],
   "source": [
    "cv_scores.mean()"
   ]
  },
  {
   "cell_type": "code",
   "execution_count": 30,
   "id": "fd58023e",
   "metadata": {},
   "outputs": [
    {
     "data": {
      "text/plain": [
       "0.0945433566787731"
      ]
     },
     "execution_count": 30,
     "metadata": {},
     "output_type": "execute_result"
    }
   ],
   "source": [
    "cv_scores.std()"
   ]
  },
  {
   "cell_type": "code",
   "execution_count": 31,
   "id": "117ebde5",
   "metadata": {},
   "outputs": [
    {
     "name": "stdout",
     "output_type": "stream",
     "text": [
      "MSE test data: 12859267.238, MAE test data: 2661.276\n"
     ]
    }
   ],
   "source": [
    "X_test_pred = Lasso_model.predict(X_test)\n",
    "\n",
    "print('MSE test data: %.3f, MAE test data: %.3f' % \n",
    "      (metrics.mean_squared_error(X_test_pred, y_test),\n",
    "       metrics.mean_absolute_error(X_test_pred, y_test)))"
   ]
  },
  {
   "cell_type": "markdown",
   "id": "05acc6d0",
   "metadata": {},
   "source": [
    "#### XGB Regressor Model"
   ]
  },
  {
   "cell_type": "code",
   "execution_count": 32,
   "id": "c52dff0d",
   "metadata": {},
   "outputs": [
    {
     "data": {
      "text/plain": [
       "XGBRegressor(base_score=0.5, booster='gbtree', colsample_bylevel=1,\n",
       "             colsample_bynode=1, colsample_bytree=1, enable_categorical=False,\n",
       "             gamma=0, gpu_id=-1, importance_type=None,\n",
       "             interaction_constraints='', learning_rate=0.300000012,\n",
       "             max_delta_step=0, max_depth=6, min_child_weight=1, missing=nan,\n",
       "             monotone_constraints='()', n_estimators=100, n_jobs=8,\n",
       "             num_parallel_tree=1, predictor='auto', random_state=0, reg_alpha=0,\n",
       "             reg_lambda=1, scale_pos_weight=1, subsample=1, tree_method='exact',\n",
       "             validate_parameters=1, verbosity=None)"
      ]
     },
     "execution_count": 32,
     "metadata": {},
     "output_type": "execute_result"
    }
   ],
   "source": [
    "XGB_model =XGBRegressor()\n",
    "XGB_model.fit(X_train, y_train)"
   ]
  },
  {
   "cell_type": "code",
   "execution_count": 33,
   "id": "e6438ac6",
   "metadata": {},
   "outputs": [
    {
     "data": {
      "text/plain": [
       "0.7298928529622041"
      ]
     },
     "execution_count": 33,
     "metadata": {},
     "output_type": "execute_result"
    }
   ],
   "source": [
    "r2_score(y_test, XGB_model.predict(X_test))"
   ]
  },
  {
   "cell_type": "code",
   "execution_count": 34,
   "id": "9336418b",
   "metadata": {},
   "outputs": [],
   "source": [
    "cv_scores = cross_val_score(XGB_model, X_train,y_train, cv = 10)"
   ]
  },
  {
   "cell_type": "code",
   "execution_count": 35,
   "id": "7ac38b30",
   "metadata": {},
   "outputs": [
    {
     "data": {
      "text/plain": [
       "0.6522291462917413"
      ]
     },
     "execution_count": 35,
     "metadata": {},
     "output_type": "execute_result"
    }
   ],
   "source": [
    "cv_scores.mean()"
   ]
  },
  {
   "cell_type": "code",
   "execution_count": 36,
   "id": "8072e2c0",
   "metadata": {},
   "outputs": [
    {
     "data": {
      "text/plain": [
       "0.12027030296490669"
      ]
     },
     "execution_count": 36,
     "metadata": {},
     "output_type": "execute_result"
    }
   ],
   "source": [
    "cv_scores.std()"
   ]
  },
  {
   "cell_type": "code",
   "execution_count": 37,
   "id": "77f186c2",
   "metadata": {},
   "outputs": [
    {
     "name": "stdout",
     "output_type": "stream",
     "text": [
      "MSE test data: 11312241.214, MAE test data: 1878.898\n"
     ]
    }
   ],
   "source": [
    "X_test_pred = XGB_model.predict(X_test)\n",
    "\n",
    "print('MSE test data: %.3f, MAE test data: %.3f' % \n",
    "      (metrics.mean_squared_error(X_test_pred, y_test),\n",
    "       metrics.mean_absolute_error(X_test_pred, y_test)))"
   ]
  },
  {
   "cell_type": "markdown",
   "id": "c7773f0d",
   "metadata": {},
   "source": [
    "#### Gradient Boosting Regressor Model"
   ]
  },
  {
   "cell_type": "code",
   "execution_count": 38,
   "id": "d7e94bd8",
   "metadata": {},
   "outputs": [
    {
     "data": {
      "text/plain": [
       "GradientBoostingRegressor()"
      ]
     },
     "execution_count": 38,
     "metadata": {},
     "output_type": "execute_result"
    }
   ],
   "source": [
    "GradientB_model = GradientBoostingRegressor()\n",
    "GradientB_model.fit(X_train, y_train)"
   ]
  },
  {
   "cell_type": "code",
   "execution_count": 39,
   "id": "cade7e42",
   "metadata": {},
   "outputs": [
    {
     "data": {
      "text/plain": [
       "0.7969579536710389"
      ]
     },
     "execution_count": 39,
     "metadata": {},
     "output_type": "execute_result"
    }
   ],
   "source": [
    "r2_score(y_test, GradientB_model.predict(X_test))"
   ]
  },
  {
   "cell_type": "code",
   "execution_count": 40,
   "id": "a7c03dda",
   "metadata": {},
   "outputs": [],
   "source": [
    "cv_scores = cross_val_score(GradientB_model, X_train,y_train, cv = 10)"
   ]
  },
  {
   "cell_type": "code",
   "execution_count": 41,
   "id": "d3107fc0",
   "metadata": {},
   "outputs": [
    {
     "data": {
      "text/plain": [
       "0.6936010160951177"
      ]
     },
     "execution_count": 41,
     "metadata": {},
     "output_type": "execute_result"
    }
   ],
   "source": [
    "cv_scores.mean()"
   ]
  },
  {
   "cell_type": "code",
   "execution_count": 42,
   "id": "a6ee2d8e",
   "metadata": {},
   "outputs": [
    {
     "data": {
      "text/plain": [
       "0.10974483630875645"
      ]
     },
     "execution_count": 42,
     "metadata": {},
     "output_type": "execute_result"
    }
   ],
   "source": [
    "cv_scores.std()"
   ]
  },
  {
   "cell_type": "code",
   "execution_count": 43,
   "id": "9c098b5e",
   "metadata": {},
   "outputs": [
    {
     "name": "stdout",
     "output_type": "stream",
     "text": [
      "MSE test data: 8503516.585, MAE test data: 1837.826\n"
     ]
    }
   ],
   "source": [
    "X_test_pred = GradientB_model.predict(X_test)\n",
    "\n",
    "print('MSE test data: %.3f, MAE test data: %.3f' % \n",
    "      (metrics.mean_squared_error(X_test_pred, y_test),\n",
    "       metrics.mean_absolute_error(X_test_pred, y_test)))"
   ]
  },
  {
   "cell_type": "markdown",
   "id": "bdb396c8",
   "metadata": {},
   "source": [
    "#### Decision Tree"
   ]
  },
  {
   "cell_type": "code",
   "execution_count": 44,
   "id": "5c7ad80a",
   "metadata": {},
   "outputs": [
    {
     "data": {
      "text/plain": [
       "DecisionTreeRegressor()"
      ]
     },
     "execution_count": 44,
     "metadata": {},
     "output_type": "execute_result"
    }
   ],
   "source": [
    "tree_model =DecisionTreeRegressor()\n",
    "tree_model.fit(X_train, y_train)"
   ]
  },
  {
   "cell_type": "code",
   "execution_count": 45,
   "id": "de92c8bd",
   "metadata": {},
   "outputs": [
    {
     "data": {
      "text/plain": [
       "0.5828711334362382"
      ]
     },
     "execution_count": 45,
     "metadata": {},
     "output_type": "execute_result"
    }
   ],
   "source": [
    "r2_score(y_test, tree_model.predict(X_test))"
   ]
  },
  {
   "cell_type": "code",
   "execution_count": 46,
   "id": "a367b929",
   "metadata": {},
   "outputs": [],
   "source": [
    "cv_scores = cross_val_score(tree_model, X_train,y_train, cv = 10)"
   ]
  },
  {
   "cell_type": "code",
   "execution_count": 47,
   "id": "c91b896e",
   "metadata": {},
   "outputs": [
    {
     "data": {
      "text/plain": [
       "0.5338696710916546"
      ]
     },
     "execution_count": 47,
     "metadata": {},
     "output_type": "execute_result"
    }
   ],
   "source": [
    "cv_scores.mean()"
   ]
  },
  {
   "cell_type": "code",
   "execution_count": 48,
   "id": "2a7cba51",
   "metadata": {},
   "outputs": [
    {
     "data": {
      "text/plain": [
       "0.19480339295637145"
      ]
     },
     "execution_count": 48,
     "metadata": {},
     "output_type": "execute_result"
    }
   ],
   "source": [
    "cv_scores.std()"
   ]
  },
  {
   "cell_type": "code",
   "execution_count": 49,
   "id": "e42cbc6c",
   "metadata": {},
   "outputs": [
    {
     "name": "stdout",
     "output_type": "stream",
     "text": [
      "MSE test data: 17469594.595, MAE test data: 1584.459\n"
     ]
    }
   ],
   "source": [
    "X_test_pred = tree_model.predict(X_test)\n",
    "\n",
    "print('MSE test data: %.3f, MAE test data: %.3f' % \n",
    "      (metrics.mean_squared_error(X_test_pred, y_test),\n",
    "       metrics.mean_absolute_error(X_test_pred, y_test)))"
   ]
  },
  {
   "cell_type": "markdown",
   "id": "3901842c",
   "metadata": {},
   "source": [
    "#### RandomForest"
   ]
  },
  {
   "cell_type": "code",
   "execution_count": 50,
   "id": "8f96eac3",
   "metadata": {},
   "outputs": [
    {
     "data": {
      "text/plain": [
       "0.7981359986134003"
      ]
     },
     "execution_count": 50,
     "metadata": {},
     "output_type": "execute_result"
    }
   ],
   "source": [
    "Rfr_model = RandomForestRegressor(n_estimators = 100, criterion = 'mse',\n",
    "                              random_state = 1,\n",
    "                              n_jobs = -1)\n",
    "Rfr_model.fit(X_train,y_train)\n",
    "X_test_pred = Rfr_model.predict(X_test)\n",
    "r2_score(y_test, X_test_pred)"
   ]
  },
  {
   "cell_type": "code",
   "execution_count": 51,
   "id": "a69b9c2b",
   "metadata": {},
   "outputs": [
    {
     "name": "stdout",
     "output_type": "stream",
     "text": [
      "Fitting 10 folds for each of 32 candidates, totalling 320 fits\n",
      "Best paramters: {'max_depth': 6, 'min_samples_leaf': 2, 'min_samples_split': 2, 'n_estimators': 100})\n"
     ]
    }
   ],
   "source": [
    "param_grid = {\n",
    "    \"n_estimators\": [50, 100,200,400], \n",
    "    \"max_depth\":([6, 12]), \n",
    "    \"min_samples_split\":[2, 4], \n",
    "    \"min_samples_leaf\":[2, 4], \n",
    "}\n",
    "#Random forest classifier\n",
    "Rfr_model = RandomForestRegressor(bootstrap=False,random_state=1)\n",
    "tree_cv = GridSearchCV(estimator=Rfr_model, param_grid = param_grid, n_jobs=-1, verbose=1, cv=10)\n",
    "tree_cv.fit(X_train, y_train)\n",
    "best_params = tree_cv.best_params_\n",
    "print(f\"Best paramters: {best_params})\")"
   ]
  },
  {
   "cell_type": "code",
   "execution_count": 52,
   "id": "d267c15e",
   "metadata": {},
   "outputs": [],
   "source": [
    "Rfr_model = RandomForestRegressor(**best_params,criterion = 'mse',random_state=1)"
   ]
  },
  {
   "cell_type": "code",
   "execution_count": 53,
   "id": "9adf6427",
   "metadata": {},
   "outputs": [
    {
     "data": {
      "text/plain": [
       "RandomForestRegressor(max_depth=6, min_samples_leaf=2, random_state=1)"
      ]
     },
     "execution_count": 53,
     "metadata": {},
     "output_type": "execute_result"
    }
   ],
   "source": [
    "Rfr_model.fit(X_train,y_train)"
   ]
  },
  {
   "cell_type": "code",
   "execution_count": 54,
   "id": "811b79b7",
   "metadata": {},
   "outputs": [
    {
     "data": {
      "text/plain": [
       "0.8139517500745572"
      ]
     },
     "execution_count": 54,
     "metadata": {},
     "output_type": "execute_result"
    }
   ],
   "source": [
    "r2_score(y_test, Rfr_model.predict(X_test))"
   ]
  },
  {
   "cell_type": "code",
   "execution_count": 55,
   "id": "0e3af842",
   "metadata": {},
   "outputs": [
    {
     "name": "stdout",
     "output_type": "stream",
     "text": [
      "MSE test data: 7791806.710, MAE test data: 1634.513\n"
     ]
    }
   ],
   "source": [
    "X_test_pred = Rfr_model.predict(X_test)\n",
    "\n",
    "print('MSE test data: %.3f, MAE test data: %.3f' % \n",
    "      (metrics.mean_squared_error(X_test_pred, y_test),\n",
    "       metrics.mean_absolute_error(X_test_pred, y_test)))"
   ]
  },
  {
   "cell_type": "markdown",
   "id": "3c59ba07",
   "metadata": {},
   "source": [
    "#### Neural network"
   ]
  },
  {
   "cell_type": "code",
   "execution_count": 56,
   "id": "e7f161c9",
   "metadata": {},
   "outputs": [],
   "source": [
    "X=premium.drop('PremiumPrice', axis=1)\n",
    "y=premium['PremiumPrice']\n"
   ]
  },
  {
   "cell_type": "code",
   "execution_count": 57,
   "id": "22d266e8",
   "metadata": {},
   "outputs": [],
   "source": [
    "X_train, X_test, y_train, y_test = train_test_split(X,y,test_size=0.3, random_state= 43)"
   ]
  },
  {
   "cell_type": "code",
   "execution_count": 58,
   "id": "0347d600",
   "metadata": {},
   "outputs": [],
   "source": [
    "scaler= StandardScaler()\n",
    "X_train = scaler.fit_transform(X_train)\n",
    "X_test = scaler.transform(X_test)\n"
   ]
  },
  {
   "cell_type": "code",
   "execution_count": 59,
   "id": "f4642176",
   "metadata": {},
   "outputs": [],
   "source": [
    "model = tf.keras.models.Sequential([              # model type\n",
    "  tf.keras.layers.Dense(128, activation='relu'),\n",
    "  tf.keras.layers.Dense(64, activation='relu'),\n",
    "  tf.keras.layers.Dense(32, activation='relu'),\n",
    "  #tf.keras.layers.Dropout(0.2),                   \n",
    "  tf.keras.layers.Dense(1, activation='linear')                                            \n",
    "])"
   ]
  },
  {
   "cell_type": "code",
   "execution_count": 60,
   "id": "72fafefd",
   "metadata": {},
   "outputs": [],
   "source": [
    "#compile\n",
    "model.compile(optimizer = tf.keras.optimizers.Adam(lr = 0.01),\n",
    "              loss='mean_absolute_error', #need to define our loss function)\n",
    "             )"
   ]
  },
  {
   "cell_type": "code",
   "execution_count": 61,
   "id": "4bc05cc0",
   "metadata": {},
   "outputs": [],
   "source": [
    "batch_size = 150   # during training to find the gradient\n",
    "epochs     = 100   # how long to train"
   ]
  },
  {
   "cell_type": "code",
   "execution_count": 62,
   "id": "7d16b8d6",
   "metadata": {},
   "outputs": [
    {
     "name": "stdout",
     "output_type": "stream",
     "text": [
      "Epoch 1/100\n",
      "4/4 [==============================] - 1s 45ms/step - loss: 24490.7871 - val_loss: 24282.0430\n",
      "Epoch 2/100\n",
      "4/4 [==============================] - 0s 10ms/step - loss: 24476.9629 - val_loss: 24253.8184\n",
      "Epoch 3/100\n",
      "4/4 [==============================] - 0s 5ms/step - loss: 24432.7227 - val_loss: 24177.4219\n",
      "Epoch 4/100\n",
      "4/4 [==============================] - 0s 6ms/step - loss: 24322.9551 - val_loss: 24004.4668\n",
      "Epoch 5/100\n",
      "4/4 [==============================] - 0s 8ms/step - loss: 24084.5293 - val_loss: 23656.0059\n",
      "Epoch 6/100\n",
      "4/4 [==============================] - 0s 15ms/step - loss: 23619.4531 - val_loss: 23012.3633\n",
      "Epoch 7/100\n",
      "4/4 [==============================] - 0s 13ms/step - loss: 22785.9922 - val_loss: 21899.5898\n",
      "Epoch 8/100\n",
      "4/4 [==============================] - 0s 14ms/step - loss: 21369.5723 - val_loss: 20068.3945\n",
      "Epoch 9/100\n",
      "4/4 [==============================] - 0s 9ms/step - loss: 19083.8477 - val_loss: 17187.5117\n",
      "Epoch 10/100\n",
      "4/4 [==============================] - 0s 11ms/step - loss: 15533.4814 - val_loss: 12913.4072\n",
      "Epoch 11/100\n",
      "4/4 [==============================] - 0s 10ms/step - loss: 10875.4424 - val_loss: 8430.9707\n",
      "Epoch 12/100\n",
      "4/4 [==============================] - 0s 12ms/step - loss: 6698.4873 - val_loss: 5583.6460\n",
      "Epoch 13/100\n",
      "4/4 [==============================] - 0s 10ms/step - loss: 6466.1694 - val_loss: 6013.8408\n",
      "Epoch 14/100\n",
      "4/4 [==============================] - 0s 10ms/step - loss: 6320.1938 - val_loss: 4719.3618\n",
      "Epoch 15/100\n",
      "4/4 [==============================] - 0s 10ms/step - loss: 4740.7837 - val_loss: 4819.1812\n",
      "Epoch 16/100\n",
      "4/4 [==============================] - 0s 10ms/step - loss: 4622.6157 - val_loss: 4903.9780\n",
      "Epoch 17/100\n",
      "4/4 [==============================] - 0s 16ms/step - loss: 4277.6504 - val_loss: 4306.3218\n",
      "Epoch 18/100\n",
      "4/4 [==============================] - 0s 10ms/step - loss: 3850.2510 - val_loss: 4120.7646\n",
      "Epoch 19/100\n",
      "4/4 [==============================] - 0s 10ms/step - loss: 3751.6536 - val_loss: 3902.3157\n",
      "Epoch 20/100\n",
      "4/4 [==============================] - 0s 5ms/step - loss: 3462.4526 - val_loss: 3830.1885\n",
      "Epoch 21/100\n",
      "4/4 [==============================] - 0s 12ms/step - loss: 3382.7063 - val_loss: 3745.2839\n",
      "Epoch 22/100\n",
      "4/4 [==============================] - 0s 11ms/step - loss: 3261.2866 - val_loss: 3557.1348\n",
      "Epoch 23/100\n",
      "4/4 [==============================] - 0s 12ms/step - loss: 3173.6226 - val_loss: 3489.4333\n",
      "Epoch 24/100\n",
      "4/4 [==============================] - 0s 11ms/step - loss: 3062.1604 - val_loss: 3437.3977\n",
      "Epoch 25/100\n",
      "4/4 [==============================] - 0s 16ms/step - loss: 2987.2251 - val_loss: 3397.7671\n",
      "Epoch 26/100\n",
      "4/4 [==============================] - 0s 11ms/step - loss: 2914.9390 - val_loss: 3335.2109\n",
      "Epoch 27/100\n",
      "4/4 [==============================] - 0s 12ms/step - loss: 2861.0820 - val_loss: 3296.7808\n",
      "Epoch 28/100\n",
      "4/4 [==============================] - 0s 11ms/step - loss: 2794.5291 - val_loss: 3293.2537\n",
      "Epoch 29/100\n",
      "4/4 [==============================] - 0s 11ms/step - loss: 2759.1616 - val_loss: 3270.2324\n",
      "Epoch 30/100\n",
      "4/4 [==============================] - 0s 12ms/step - loss: 2719.6235 - val_loss: 3255.7131\n",
      "Epoch 31/100\n",
      "4/4 [==============================] - 0s 12ms/step - loss: 2689.6453 - val_loss: 3238.9917\n",
      "Epoch 32/100\n",
      "4/4 [==============================] - 0s 12ms/step - loss: 2669.2090 - val_loss: 3224.6619\n",
      "Epoch 33/100\n",
      "4/4 [==============================] - 0s 12ms/step - loss: 2637.1841 - val_loss: 3204.7114\n",
      "Epoch 34/100\n",
      "4/4 [==============================] - 0s 9ms/step - loss: 2619.7961 - val_loss: 3191.5171\n",
      "Epoch 35/100\n",
      "4/4 [==============================] - 0s 11ms/step - loss: 2615.9854 - val_loss: 3175.3984\n",
      "Epoch 36/100\n",
      "4/4 [==============================] - 0s 8ms/step - loss: 2579.4265 - val_loss: 3170.5122\n",
      "Epoch 37/100\n",
      "4/4 [==============================] - 0s 10ms/step - loss: 2560.2676 - val_loss: 3185.2993\n",
      "Epoch 38/100\n",
      "4/4 [==============================] - 0s 10ms/step - loss: 2563.5862 - val_loss: 3208.1274\n",
      "Epoch 39/100\n",
      "4/4 [==============================] - 0s 10ms/step - loss: 2551.8445 - val_loss: 3183.4753\n",
      "Epoch 40/100\n",
      "4/4 [==============================] - 0s 10ms/step - loss: 2516.1890 - val_loss: 3164.3972\n",
      "Epoch 41/100\n",
      "4/4 [==============================] - 0s 9ms/step - loss: 2519.9160 - val_loss: 3148.1191\n",
      "Epoch 42/100\n",
      "4/4 [==============================] - 0s 9ms/step - loss: 2501.0122 - val_loss: 3165.1445\n",
      "Epoch 43/100\n",
      "4/4 [==============================] - 0s 12ms/step - loss: 2503.5808 - val_loss: 3138.7107\n",
      "Epoch 44/100\n",
      "4/4 [==============================] - 0s 11ms/step - loss: 2483.6631 - val_loss: 3129.0469\n",
      "Epoch 45/100\n",
      "4/4 [==============================] - 0s 11ms/step - loss: 2476.8206 - val_loss: 3109.3535\n",
      "Epoch 46/100\n",
      "4/4 [==============================] - 0s 16ms/step - loss: 2472.8130 - val_loss: 3115.8386\n",
      "Epoch 47/100\n",
      "4/4 [==============================] - 0s 13ms/step - loss: 2456.4792 - val_loss: 3115.4666\n",
      "Epoch 48/100\n",
      "4/4 [==============================] - 0s 11ms/step - loss: 2447.7891 - val_loss: 3109.3235\n",
      "Epoch 49/100\n",
      "4/4 [==============================] - 0s 12ms/step - loss: 2438.5391 - val_loss: 3125.3035\n",
      "Epoch 50/100\n",
      "4/4 [==============================] - 0s 11ms/step - loss: 2434.6565 - val_loss: 3111.0535\n",
      "Epoch 51/100\n",
      "4/4 [==============================] - 0s 9ms/step - loss: 2423.6016 - val_loss: 3109.7463\n",
      "Epoch 52/100\n",
      "4/4 [==============================] - 0s 8ms/step - loss: 2408.5938 - val_loss: 3105.1096\n",
      "Epoch 53/100\n",
      "4/4 [==============================] - 0s 5ms/step - loss: 2412.4426 - val_loss: 3092.2407\n",
      "Epoch 54/100\n",
      "4/4 [==============================] - 0s 10ms/step - loss: 2420.8127 - val_loss: 3095.7661\n",
      "Epoch 55/100\n",
      "4/4 [==============================] - 0s 10ms/step - loss: 2404.7478 - val_loss: 3093.5859\n",
      "Epoch 56/100\n",
      "4/4 [==============================] - 0s 11ms/step - loss: 2394.0562 - val_loss: 3095.1282\n",
      "Epoch 57/100\n",
      "4/4 [==============================] - 0s 12ms/step - loss: 2389.4160 - val_loss: 3059.8923\n",
      "Epoch 58/100\n",
      "4/4 [==============================] - 0s 10ms/step - loss: 2385.9788 - val_loss: 3075.5825\n",
      "Epoch 59/100\n",
      "4/4 [==============================] - 0s 11ms/step - loss: 2384.9741 - val_loss: 3081.4790\n",
      "Epoch 60/100\n",
      "4/4 [==============================] - 0s 3ms/step - loss: 2396.2417 - val_loss: 3084.8806\n",
      "Epoch 61/100\n",
      "4/4 [==============================] - 0s 6ms/step - loss: 2388.6350 - val_loss: 3073.3806\n",
      "Epoch 62/100\n",
      "4/4 [==============================] - 0s 5ms/step - loss: 2416.4800 - val_loss: 3056.4390\n",
      "Epoch 63/100\n",
      "4/4 [==============================] - 0s 10ms/step - loss: 2417.6335 - val_loss: 3109.7158\n",
      "Epoch 64/100\n",
      "4/4 [==============================] - 0s 5ms/step - loss: 2405.9675 - val_loss: 3061.7612\n",
      "Epoch 65/100\n",
      "4/4 [==============================] - 0s 5ms/step - loss: 2374.2124 - val_loss: 3081.2485\n",
      "Epoch 66/100\n",
      "4/4 [==============================] - 0s 10ms/step - loss: 2366.2690 - val_loss: 3063.9033\n",
      "Epoch 67/100\n",
      "4/4 [==============================] - 0s 5ms/step - loss: 2404.4695 - val_loss: 3068.9441\n",
      "Epoch 68/100\n",
      "4/4 [==============================] - 0s 5ms/step - loss: 2390.6572 - val_loss: 3047.1892\n",
      "Epoch 69/100\n",
      "4/4 [==============================] - 0s 10ms/step - loss: 2367.3704 - val_loss: 3044.1626\n",
      "Epoch 70/100\n",
      "4/4 [==============================] - 0s 5ms/step - loss: 2332.3501 - val_loss: 3074.2966\n",
      "Epoch 71/100\n",
      "4/4 [==============================] - 0s 10ms/step - loss: 2352.5366 - val_loss: 3004.7095\n",
      "Epoch 72/100\n",
      "4/4 [==============================] - 0s 10ms/step - loss: 2349.5950 - val_loss: 3026.9224\n",
      "Epoch 73/100\n",
      "4/4 [==============================] - 0s 5ms/step - loss: 2331.6931 - val_loss: 3077.1042\n",
      "Epoch 74/100\n",
      "4/4 [==============================] - 0s 5ms/step - loss: 2336.8098 - val_loss: 3023.9082\n",
      "Epoch 75/100\n",
      "4/4 [==============================] - 0s 10ms/step - loss: 2338.0767 - val_loss: 3049.1013\n",
      "Epoch 76/100\n",
      "4/4 [==============================] - 0s 5ms/step - loss: 2359.8635 - val_loss: 3027.1531\n",
      "Epoch 77/100\n",
      "4/4 [==============================] - 0s 10ms/step - loss: 2322.0054 - val_loss: 2999.7893\n",
      "Epoch 78/100\n",
      "4/4 [==============================] - 0s 10ms/step - loss: 2323.7542 - val_loss: 3031.2366\n",
      "Epoch 79/100\n"
     ]
    },
    {
     "name": "stdout",
     "output_type": "stream",
     "text": [
      "4/4 [==============================] - 0s 5ms/step - loss: 2333.1611 - val_loss: 3032.4375\n",
      "Epoch 80/100\n",
      "4/4 [==============================] - 0s 10ms/step - loss: 2316.9531 - val_loss: 3033.7471\n",
      "Epoch 81/100\n",
      "4/4 [==============================] - 0s 6ms/step - loss: 2308.2405 - val_loss: 3006.1497\n",
      "Epoch 82/100\n",
      "4/4 [==============================] - 0s 7ms/step - loss: 2303.2192 - val_loss: 3028.1292\n",
      "Epoch 83/100\n",
      "4/4 [==============================] - 0s 12ms/step - loss: 2298.4634 - val_loss: 3022.9680\n",
      "Epoch 84/100\n",
      "4/4 [==============================] - 0s 11ms/step - loss: 2304.2615 - val_loss: 3031.3999\n",
      "Epoch 85/100\n",
      "4/4 [==============================] - 0s 11ms/step - loss: 2296.8081 - val_loss: 2981.6545\n",
      "Epoch 86/100\n",
      "4/4 [==============================] - 0s 11ms/step - loss: 2295.2422 - val_loss: 3036.8550\n",
      "Epoch 87/100\n",
      "4/4 [==============================] - 0s 8ms/step - loss: 2305.4773 - val_loss: 3025.7588\n",
      "Epoch 88/100\n",
      "4/4 [==============================] - 0s 6ms/step - loss: 2320.5771 - val_loss: 3019.7612\n",
      "Epoch 89/100\n",
      "4/4 [==============================] - 0s 13ms/step - loss: 2316.8867 - val_loss: 2997.7898\n",
      "Epoch 90/100\n",
      "4/4 [==============================] - 0s 8ms/step - loss: 2315.3079 - val_loss: 3007.3704\n",
      "Epoch 91/100\n",
      "4/4 [==============================] - 0s 8ms/step - loss: 2338.0916 - val_loss: 3045.0447\n",
      "Epoch 92/100\n",
      "4/4 [==============================] - 0s 5ms/step - loss: 2328.0715 - val_loss: 2983.9922\n",
      "Epoch 93/100\n",
      "4/4 [==============================] - 0s 5ms/step - loss: 2318.6458 - val_loss: 3031.8396\n",
      "Epoch 94/100\n",
      "4/4 [==============================] - 0s 10ms/step - loss: 2287.2627 - val_loss: 2970.1577\n",
      "Epoch 95/100\n",
      "4/4 [==============================] - 0s 5ms/step - loss: 2297.8804 - val_loss: 3060.9194\n",
      "Epoch 96/100\n",
      "4/4 [==============================] - 0s 10ms/step - loss: 2298.8511 - val_loss: 3016.4116\n",
      "Epoch 97/100\n",
      "4/4 [==============================] - 0s 5ms/step - loss: 2285.8110 - val_loss: 3031.0762\n",
      "Epoch 98/100\n",
      "4/4 [==============================] - 0s 5ms/step - loss: 2299.0032 - val_loss: 3012.3428\n",
      "Epoch 99/100\n",
      "4/4 [==============================] - 0s 5ms/step - loss: 2314.6907 - val_loss: 3006.0598\n",
      "Epoch 100/100\n",
      "4/4 [==============================] - 0s 5ms/step - loss: 2265.3442 - val_loss: 3015.0464\n"
     ]
    }
   ],
   "source": [
    "#tstart = tf.timestamp()\n",
    "history = model.fit(X_train, y_train, \n",
    "                    epochs=epochs,batch_size=batch_size,\n",
    "                    validation_split = 0.2) # Data for evaluation\n",
    "#total_time = tf.timestamp() - tstart\n",
    "#print(\"total time %3.3f seconds\"%total_time)"
   ]
  },
  {
   "cell_type": "code",
   "execution_count": 63,
   "id": "f68bcc25",
   "metadata": {},
   "outputs": [],
   "source": [
    "loss = pd.DataFrame(model.history.history)"
   ]
  },
  {
   "cell_type": "code",
   "execution_count": 64,
   "id": "11fb6e89",
   "metadata": {},
   "outputs": [
    {
     "data": {
      "text/plain": [
       "<AxesSubplot:>"
      ]
     },
     "execution_count": 64,
     "metadata": {},
     "output_type": "execute_result"
    },
    {
     "data": {
      "image/png": "[encoded data removed]",
      "text/plain": [
       "<Figure size 432x288 with 1 Axes>"
      ]
     },
     "metadata": {
      "needs_background": "light"
     },
     "output_type": "display_data"
    }
   ],
   "source": [
    "loss.plot()\n"
   ]
  },
  {
   "cell_type": "code",
   "execution_count": 65,
   "id": "06788289",
   "metadata": {},
   "outputs": [],
   "source": [
    "y_pred = model.predict(X_test)"
   ]
  },
  {
   "cell_type": "code",
   "execution_count": 66,
   "id": "3499b02b",
   "metadata": {},
   "outputs": [
    {
     "name": "stdout",
     "output_type": "stream",
     "text": [
      "Actual  Predicted \n",
      "15000.0\t20501.45\n",
      "15000.0\t16990.82\n",
      "23000.0\t24831.55\n",
      "15000.0\t20365.87\n",
      "23000.0\t20870.87\n",
      "35000.0\t30331.65\n",
      "29000.0\t34500.35\n",
      "25000.0\t28389.56\n",
      "38000.0\t36748.15\n",
      "23000.0\t22801.07\n",
      "25000.0\t27663.07\n",
      "23000.0\t25584.25\n",
      "30000.0\t23086.55\n",
      "23000.0\t23956.35\n",
      "29000.0\t28895.63\n",
      "15000.0\t20447.75\n",
      "28000.0\t28591.98\n",
      "23000.0\t24126.6 \n",
      "23000.0\t24042.06\n",
      "35000.0\t27496.42\n"
     ]
    }
   ],
   "source": [
    "combinedArray = np.column_stack((y_test[0:20],y_pred[0:20]))\n",
    "print(\"Actual  Predicted \")\n",
    "s = [[str(e) for e in row] for row in np.around(combinedArray, 2)]\n",
    "lens = [max(map(len, col)) for col in zip(*s)]\n",
    "fmt = '\\t'.join('{{:{}}}'.format(x) for x in lens)\n",
    "table = [fmt.format(*row) for row in s]\n",
    "print ('\\n'.join(table))"
   ]
  },
  {
   "cell_type": "code",
   "execution_count": 67,
   "id": "eb0f6395",
   "metadata": {},
   "outputs": [
    {
     "data": {
      "text/plain": [
       "0.6469498571325911"
      ]
     },
     "execution_count": 67,
     "metadata": {},
     "output_type": "execute_result"
    }
   ],
   "source": [
    "r2_score(y_test, model.predict(X_test))"
   ]
  },
  {
   "cell_type": "markdown",
   "id": "24a4efed",
   "metadata": {},
   "source": [
    "Use Grid search CV to find best parameter"
   ]
  },
  {
   "cell_type": "code",
   "execution_count": 68,
   "id": "6525bcc9",
   "metadata": {},
   "outputs": [],
   "source": [
    "model = tf.keras.models.Sequential([              # model type\n",
    "  tf.keras.layers.Dense(128, activation='relu'),\n",
    "  tf.keras.layers.Dense(64, activation='relu'),\n",
    "  tf.keras.layers.Dense(32, activation='relu'),\n",
    "  #tf.keras.layers.Dropout(0.2),                   \n",
    "  tf.keras.layers.Dense(1, activation='linear')                                            \n",
    "])"
   ]
  },
  {
   "cell_type": "code",
   "execution_count": 69,
   "id": "509e0348",
   "metadata": {},
   "outputs": [],
   "source": [
    "def Model(optimizer):\n",
    "    tf.random.set_seed(0)                             # set our initial seed\n",
    "    model = tf.keras.models.Sequential([             # model type\n",
    "         tf.keras.layers.Dense(128, activation='relu'),\n",
    "         tf.keras.layers.Dense(64, activation='relu'),\n",
    "         tf.keras.layers.Dense(32, activation='relu'),                 \n",
    "         tf.keras.layers.Dense(1, activation='linear') \n",
    "    ])\n",
    "    model.compile(optimizer = optimizer,\n",
    "              loss='mean_absolute_error', #need to define our loss function)\n",
    "             )\n",
    "    return model "
   ]
  },
  {
   "cell_type": "code",
   "execution_count": 70,
   "id": "1360aea0",
   "metadata": {},
   "outputs": [
    {
     "name": "stdout",
     "output_type": "stream",
     "text": [
      "WARNING:tensorflow:5 out of the last 15 calls to <function Model.make_predict_function.<locals>.predict_function at 0x000002132575C4C0> triggered tf.function retracing. Tracing is expensive and the excessive number of tracings could be due to (1) creating @tf.function repeatedly in a loop, (2) passing tensors with different shapes, (3) passing Python objects instead of tensors. For (1), please define your @tf.function outside of the loop. For (2), @tf.function has experimental_relax_shapes=True option that relaxes argument shapes that can avoid unnecessary retracing. For (3), please refer to https://www.tensorflow.org/guide/function#controlling_retracing and https://www.tensorflow.org/api_docs/python/tf/function for  more details.\n",
      "WARNING:tensorflow:5 out of the last 13 calls to <function Model.make_predict_function.<locals>.predict_function at 0x00000213174F59D0> triggered tf.function retracing. Tracing is expensive and the excessive number of tracings could be due to (1) creating @tf.function repeatedly in a loop, (2) passing tensors with different shapes, (3) passing Python objects instead of tensors. For (1), please define your @tf.function outside of the loop. For (2), @tf.function has experimental_relax_shapes=True option that relaxes argument shapes that can avoid unnecessary retracing. For (3), please refer to https://www.tensorflow.org/guide/function#controlling_retracing and https://www.tensorflow.org/api_docs/python/tf/function for  more details.\n"
     ]
    }
   ],
   "source": [
    "from sklearn.model_selection import GridSearchCV \n",
    "from tensorflow.keras.wrappers.scikit_learn import KerasRegressor\n",
    "\n",
    "model = KerasRegressor(build_fn = Model)\n",
    "\n",
    "parameters = {'batch_size': [16, 32, 64, 128],\n",
    "              'epochs': [100, 150,],\n",
    "              'optimizer': ['adam', 'rmsprop']}\n",
    "grid_search = GridSearchCV(estimator = model,\n",
    "                           param_grid = parameters,\n",
    "                           scoring = 'neg_mean_absolute_error',\n",
    "                           cv = 5)\n",
    "grid_search = grid_search.fit(X_train, y_train, verbose = 0)"
   ]
  },
  {
   "cell_type": "code",
   "execution_count": 71,
   "id": "100d6751",
   "metadata": {},
   "outputs": [
    {
     "name": "stdout",
     "output_type": "stream",
     "text": [
      "Best Parameters: {'batch_size': 16, 'epochs': 150, 'optimizer': 'adam'}\n"
     ]
    }
   ],
   "source": [
    "best_parameters = grid_search.best_params_\n",
    "best_score = grid_search.best_score_\n",
    "\n",
    "print(\"Best Parameters: \" + str(best_parameters))\n"
   ]
  },
  {
   "cell_type": "code",
   "execution_count": 72,
   "id": "1662b241",
   "metadata": {},
   "outputs": [],
   "source": [
    "batch_size = 16   # during training to find the gradient\n",
    "epochs     = 150   # how long to train"
   ]
  },
  {
   "cell_type": "code",
   "execution_count": 73,
   "id": "fe054dad",
   "metadata": {},
   "outputs": [],
   "source": [
    "model = tf.keras.models.Sequential([              # model type\n",
    "  tf.keras.layers.Dense(128, activation='relu'),\n",
    "  tf.keras.layers.Dense(64, activation='relu'),\n",
    "  tf.keras.layers.Dense(32, activation='relu'),\n",
    "  #tf.keras.layers.Dropout(0.2),                   \n",
    "  tf.keras.layers.Dense(1, activation='linear')                                            \n",
    "])"
   ]
  },
  {
   "cell_type": "code",
   "execution_count": 74,
   "id": "a85cf39b",
   "metadata": {},
   "outputs": [],
   "source": [
    "#compile\n",
    "model.compile(optimizer = tf.keras.optimizers.Adam(lr = 0.01),\n",
    "              loss='mean_absolute_error', #need to define our loss function)\n",
    "             )"
   ]
  },
  {
   "cell_type": "code",
   "execution_count": 75,
   "id": "ecee2014",
   "metadata": {},
   "outputs": [
    {
     "name": "stdout",
     "output_type": "stream",
     "text": [
      "Epoch 1/150\n",
      "35/35 [==============================] - 0s 4ms/step - loss: 23659.3125 - val_loss: 19525.3945\n",
      "Epoch 2/150\n",
      "35/35 [==============================] - 0s 2ms/step - loss: 8900.2041 - val_loss: 4919.1655\n",
      "Epoch 3/150\n",
      "35/35 [==============================] - 0s 2ms/step - loss: 3701.9668 - val_loss: 3566.1077\n",
      "Epoch 4/150\n",
      "35/35 [==============================] - 0s 2ms/step - loss: 3216.9719 - val_loss: 3565.5303\n",
      "Epoch 5/150\n",
      "35/35 [==============================] - 0s 2ms/step - loss: 2939.7173 - val_loss: 3240.2903\n",
      "Epoch 6/150\n",
      "35/35 [==============================] - 0s 2ms/step - loss: 2841.5703 - val_loss: 3200.3682\n",
      "Epoch 7/150\n",
      "35/35 [==============================] - 0s 2ms/step - loss: 2793.2444 - val_loss: 3456.5203\n",
      "Epoch 8/150\n",
      "35/35 [==============================] - 0s 2ms/step - loss: 2779.6970 - val_loss: 3013.3469\n",
      "Epoch 9/150\n",
      "35/35 [==============================] - 0s 2ms/step - loss: 2720.1042 - val_loss: 3138.2839\n",
      "Epoch 10/150\n",
      "35/35 [==============================] - 0s 2ms/step - loss: 2648.5361 - val_loss: 3027.2014\n",
      "Epoch 11/150\n",
      "35/35 [==============================] - 0s 2ms/step - loss: 2609.9736 - val_loss: 3052.0085\n",
      "Epoch 12/150\n",
      "35/35 [==============================] - 0s 2ms/step - loss: 2620.6506 - val_loss: 3105.8591\n",
      "Epoch 13/150\n",
      "35/35 [==============================] - 0s 2ms/step - loss: 2589.3943 - val_loss: 3013.7715\n",
      "Epoch 14/150\n",
      "35/35 [==============================] - 0s 2ms/step - loss: 2555.8218 - val_loss: 3080.3796\n",
      "Epoch 15/150\n",
      "35/35 [==============================] - 0s 2ms/step - loss: 2486.5305 - val_loss: 3133.4951\n",
      "Epoch 16/150\n",
      "35/35 [==============================] - 0s 2ms/step - loss: 2707.4551 - val_loss: 3229.8135\n",
      "Epoch 17/150\n",
      "35/35 [==============================] - 0s 2ms/step - loss: 2641.3215 - val_loss: 2933.4531\n",
      "Epoch 18/150\n",
      "35/35 [==============================] - 0s 2ms/step - loss: 2585.1477 - val_loss: 3183.7864\n",
      "Epoch 19/150\n",
      "35/35 [==============================] - 0s 2ms/step - loss: 2496.7456 - val_loss: 3075.5764\n",
      "Epoch 20/150\n",
      "35/35 [==============================] - 0s 2ms/step - loss: 2526.6772 - val_loss: 3067.6719\n",
      "Epoch 21/150\n",
      "35/35 [==============================] - 0s 2ms/step - loss: 2538.4634 - val_loss: 3007.4414\n",
      "Epoch 22/150\n",
      "35/35 [==============================] - 0s 2ms/step - loss: 2483.8904 - val_loss: 3117.4585\n",
      "Epoch 23/150\n",
      "35/35 [==============================] - 0s 2ms/step - loss: 2603.0566 - val_loss: 3033.3752\n",
      "Epoch 24/150\n",
      "35/35 [==============================] - 0s 2ms/step - loss: 2538.5439 - val_loss: 3013.2249\n",
      "Epoch 25/150\n",
      "35/35 [==============================] - 0s 2ms/step - loss: 2471.0103 - val_loss: 3144.1577\n",
      "Epoch 26/150\n",
      "35/35 [==============================] - 0s 2ms/step - loss: 2569.5959 - val_loss: 3004.7810\n",
      "Epoch 27/150\n",
      "35/35 [==============================] - 0s 2ms/step - loss: 2499.7068 - val_loss: 2991.0220\n",
      "Epoch 28/150\n",
      "35/35 [==============================] - 0s 2ms/step - loss: 2424.0557 - val_loss: 3062.6250\n",
      "Epoch 29/150\n",
      "35/35 [==============================] - 0s 2ms/step - loss: 2405.2244 - val_loss: 2982.2056\n",
      "Epoch 30/150\n",
      "35/35 [==============================] - 0s 6ms/step - loss: 2485.9265 - val_loss: 3001.3386\n",
      "Epoch 31/150\n",
      "35/35 [==============================] - 0s 3ms/step - loss: 2437.0754 - val_loss: 2971.7400\n",
      "Epoch 32/150\n",
      "35/35 [==============================] - 0s 3ms/step - loss: 2449.1365 - val_loss: 3073.1243\n",
      "Epoch 33/150\n",
      "35/35 [==============================] - 0s 2ms/step - loss: 2416.3171 - val_loss: 2971.3530\n",
      "Epoch 34/150\n",
      "35/35 [==============================] - 0s 2ms/step - loss: 2397.7637 - val_loss: 3107.9158\n",
      "Epoch 35/150\n",
      "35/35 [==============================] - 0s 3ms/step - loss: 2587.6128 - val_loss: 3108.0581\n",
      "Epoch 36/150\n",
      "35/35 [==============================] - 0s 2ms/step - loss: 2498.5164 - val_loss: 3144.2859\n",
      "Epoch 37/150\n",
      "35/35 [==============================] - 0s 4ms/step - loss: 2532.2988 - val_loss: 2974.1016\n",
      "Epoch 38/150\n",
      "35/35 [==============================] - 0s 4ms/step - loss: 2427.8564 - val_loss: 2923.1604\n",
      "Epoch 39/150\n",
      "35/35 [==============================] - 0s 6ms/step - loss: 2408.9238 - val_loss: 3108.3887\n",
      "Epoch 40/150\n",
      "35/35 [==============================] - 0s 5ms/step - loss: 2400.3054 - val_loss: 2892.2109\n",
      "Epoch 41/150\n",
      "35/35 [==============================] - 0s 4ms/step - loss: 2379.2314 - val_loss: 3008.5710\n",
      "Epoch 42/150\n",
      "35/35 [==============================] - 0s 3ms/step - loss: 2449.0393 - val_loss: 2960.0823\n",
      "Epoch 43/150\n",
      "35/35 [==============================] - 0s 3ms/step - loss: 2437.5574 - val_loss: 3062.0144\n",
      "Epoch 44/150\n",
      "35/35 [==============================] - 0s 3ms/step - loss: 2463.1079 - val_loss: 2951.5581\n",
      "Epoch 45/150\n",
      "35/35 [==============================] - 0s 2ms/step - loss: 2362.7195 - val_loss: 2978.3484\n",
      "Epoch 46/150\n",
      "35/35 [==============================] - 0s 2ms/step - loss: 2388.1672 - val_loss: 3040.1758\n",
      "Epoch 47/150\n",
      "35/35 [==============================] - 0s 2ms/step - loss: 2410.7080 - val_loss: 3115.6765\n",
      "Epoch 48/150\n",
      "35/35 [==============================] - 0s 2ms/step - loss: 2485.1343 - val_loss: 3011.3464\n",
      "Epoch 49/150\n",
      "35/35 [==============================] - 0s 2ms/step - loss: 2362.8420 - val_loss: 2980.4778\n",
      "Epoch 50/150\n",
      "35/35 [==============================] - 0s 2ms/step - loss: 2449.5891 - val_loss: 2952.1201\n",
      "Epoch 51/150\n",
      "35/35 [==============================] - 0s 2ms/step - loss: 2379.0645 - val_loss: 3047.1335\n",
      "Epoch 52/150\n",
      "35/35 [==============================] - 0s 2ms/step - loss: 2383.1785 - val_loss: 2953.8750\n",
      "Epoch 53/150\n",
      "35/35 [==============================] - 0s 2ms/step - loss: 2370.6941 - val_loss: 2971.2834\n",
      "Epoch 54/150\n",
      "35/35 [==============================] - 0s 2ms/step - loss: 2413.6550 - val_loss: 2915.2214\n",
      "Epoch 55/150\n",
      "35/35 [==============================] - 0s 2ms/step - loss: 2362.2043 - val_loss: 3009.9592\n",
      "Epoch 56/150\n",
      "35/35 [==============================] - 0s 2ms/step - loss: 2382.6121 - val_loss: 2948.6765\n",
      "Epoch 57/150\n",
      "35/35 [==============================] - 0s 2ms/step - loss: 2390.0588 - val_loss: 3208.1045\n",
      "Epoch 58/150\n",
      "35/35 [==============================] - 0s 2ms/step - loss: 2485.9705 - val_loss: 2954.9192\n",
      "Epoch 59/150\n",
      "35/35 [==============================] - 0s 2ms/step - loss: 2513.2749 - val_loss: 3134.5161\n",
      "Epoch 60/150\n",
      "35/35 [==============================] - 0s 1ms/step - loss: 2364.2898 - val_loss: 2966.8667\n",
      "Epoch 61/150\n",
      "35/35 [==============================] - 0s 2ms/step - loss: 2315.8928 - val_loss: 2921.4470\n",
      "Epoch 62/150\n",
      "35/35 [==============================] - 0s 2ms/step - loss: 2359.7188 - val_loss: 2977.8352\n",
      "Epoch 63/150\n",
      "35/35 [==============================] - 0s 2ms/step - loss: 2412.7131 - val_loss: 3190.1960\n",
      "Epoch 64/150\n",
      "35/35 [==============================] - 0s 2ms/step - loss: 2399.9663 - val_loss: 3059.4597\n",
      "Epoch 65/150\n",
      "35/35 [==============================] - 0s 2ms/step - loss: 2339.5430 - val_loss: 2996.2605\n",
      "Epoch 66/150\n",
      "35/35 [==============================] - 0s 2ms/step - loss: 2339.6140 - val_loss: 2983.1182\n",
      "Epoch 67/150\n",
      "35/35 [==============================] - 0s 3ms/step - loss: 2388.1313 - val_loss: 3078.7612\n",
      "Epoch 68/150\n",
      "35/35 [==============================] - 0s 3ms/step - loss: 2347.4011 - val_loss: 3094.3147\n",
      "Epoch 69/150\n",
      "35/35 [==============================] - 0s 2ms/step - loss: 2354.8877 - val_loss: 2935.0437\n",
      "Epoch 70/150\n",
      "35/35 [==============================] - 0s 2ms/step - loss: 2372.6938 - val_loss: 3005.3984\n",
      "Epoch 71/150\n",
      "35/35 [==============================] - 0s 2ms/step - loss: 2328.8247 - val_loss: 2979.7305\n",
      "Epoch 72/150\n",
      "35/35 [==============================] - 0s 2ms/step - loss: 2359.4253 - val_loss: 2969.7629\n",
      "Epoch 73/150\n",
      "35/35 [==============================] - 0s 2ms/step - loss: 2350.5359 - val_loss: 3027.4578\n",
      "Epoch 74/150\n",
      "35/35 [==============================] - 0s 2ms/step - loss: 2339.5984 - val_loss: 3016.1394\n",
      "Epoch 75/150\n",
      "35/35 [==============================] - 0s 4ms/step - loss: 2290.9392 - val_loss: 2946.5947\n",
      "Epoch 76/150\n",
      "35/35 [==============================] - 0s 4ms/step - loss: 2387.4082 - val_loss: 3053.1252\n",
      "Epoch 77/150\n",
      "35/35 [==============================] - 0s 4ms/step - loss: 2343.4060 - val_loss: 3067.7141\n",
      "Epoch 78/150\n"
     ]
    },
    {
     "name": "stdout",
     "output_type": "stream",
     "text": [
      "35/35 [==============================] - 0s 2ms/step - loss: 2421.6284 - val_loss: 3021.3018\n",
      "Epoch 79/150\n",
      "35/35 [==============================] - 0s 2ms/step - loss: 2412.9363 - val_loss: 3120.2671\n",
      "Epoch 80/150\n",
      "35/35 [==============================] - 0s 2ms/step - loss: 2363.0586 - val_loss: 3036.0447\n",
      "Epoch 81/150\n",
      "35/35 [==============================] - 0s 2ms/step - loss: 2300.5955 - val_loss: 3029.0156\n",
      "Epoch 82/150\n",
      "35/35 [==============================] - 0s 2ms/step - loss: 2422.2666 - val_loss: 3047.1250\n",
      "Epoch 83/150\n",
      "35/35 [==============================] - 0s 2ms/step - loss: 2273.0859 - val_loss: 2958.9775\n",
      "Epoch 84/150\n",
      "35/35 [==============================] - 0s 2ms/step - loss: 2308.8059 - val_loss: 3253.2390\n",
      "Epoch 85/150\n",
      "35/35 [==============================] - 0s 2ms/step - loss: 2342.4304 - val_loss: 2986.7576\n",
      "Epoch 86/150\n",
      "35/35 [==============================] - 0s 2ms/step - loss: 2355.6921 - val_loss: 3069.3523\n",
      "Epoch 87/150\n",
      "35/35 [==============================] - 0s 2ms/step - loss: 2318.9082 - val_loss: 2910.9431\n",
      "Epoch 88/150\n",
      "35/35 [==============================] - 0s 2ms/step - loss: 2382.7993 - val_loss: 3168.4102\n",
      "Epoch 89/150\n",
      "35/35 [==============================] - 0s 2ms/step - loss: 2408.4211 - val_loss: 3023.8347\n",
      "Epoch 90/150\n",
      "35/35 [==============================] - 0s 2ms/step - loss: 2317.9519 - val_loss: 3112.2861\n",
      "Epoch 91/150\n",
      "35/35 [==============================] - 0s 2ms/step - loss: 2470.0430 - val_loss: 2952.7817\n",
      "Epoch 92/150\n",
      "35/35 [==============================] - 0s 2ms/step - loss: 2274.7559 - val_loss: 2985.6289\n",
      "Epoch 93/150\n",
      "35/35 [==============================] - 0s 2ms/step - loss: 2324.9790 - val_loss: 3126.4702\n",
      "Epoch 94/150\n",
      "35/35 [==============================] - 0s 2ms/step - loss: 2344.4937 - val_loss: 2893.9771\n",
      "Epoch 95/150\n",
      "35/35 [==============================] - 0s 2ms/step - loss: 2354.1863 - val_loss: 2981.4788\n",
      "Epoch 96/150\n",
      "35/35 [==============================] - 0s 2ms/step - loss: 2345.3950 - val_loss: 2952.4397\n",
      "Epoch 97/150\n",
      "35/35 [==============================] - 0s 2ms/step - loss: 2423.6560 - val_loss: 3251.3225\n",
      "Epoch 98/150\n",
      "35/35 [==============================] - 0s 2ms/step - loss: 2430.0820 - val_loss: 3048.5017\n",
      "Epoch 99/150\n",
      "35/35 [==============================] - 0s 1ms/step - loss: 2403.7922 - val_loss: 3041.5894\n",
      "Epoch 100/150\n",
      "35/35 [==============================] - 0s 1ms/step - loss: 2335.9448 - val_loss: 3072.9792\n",
      "Epoch 101/150\n",
      "35/35 [==============================] - 0s 2ms/step - loss: 2297.6611 - val_loss: 2969.5374\n",
      "Epoch 102/150\n",
      "35/35 [==============================] - 0s 2ms/step - loss: 2261.4617 - val_loss: 2957.4268\n",
      "Epoch 103/150\n",
      "35/35 [==============================] - 0s 2ms/step - loss: 2263.4128 - val_loss: 3051.0005\n",
      "Epoch 104/150\n",
      "35/35 [==============================] - 0s 2ms/step - loss: 2321.4993 - val_loss: 2969.4297\n",
      "Epoch 105/150\n",
      "35/35 [==============================] - 0s 2ms/step - loss: 2336.7297 - val_loss: 3037.0291\n",
      "Epoch 106/150\n",
      "35/35 [==============================] - 0s 2ms/step - loss: 2360.0610 - val_loss: 3052.6934\n",
      "Epoch 107/150\n",
      "35/35 [==============================] - 0s 1ms/step - loss: 2401.8345 - val_loss: 3070.6035\n",
      "Epoch 108/150\n",
      "35/35 [==============================] - 0s 1ms/step - loss: 2314.2747 - val_loss: 2982.0327\n",
      "Epoch 109/150\n",
      "35/35 [==============================] - 0s 1ms/step - loss: 2299.8359 - val_loss: 2976.6797\n",
      "Epoch 110/150\n",
      "35/35 [==============================] - 0s 1ms/step - loss: 2372.1245 - val_loss: 2976.6458\n",
      "Epoch 111/150\n",
      "35/35 [==============================] - 0s 1ms/step - loss: 2323.7725 - val_loss: 2982.5637\n",
      "Epoch 112/150\n",
      "35/35 [==============================] - 0s 2ms/step - loss: 2303.6497 - val_loss: 2950.7781\n",
      "Epoch 113/150\n",
      "35/35 [==============================] - 0s 2ms/step - loss: 2331.8564 - val_loss: 2944.2507\n",
      "Epoch 114/150\n",
      "35/35 [==============================] - 0s 2ms/step - loss: 2326.4543 - val_loss: 2997.5134\n",
      "Epoch 115/150\n",
      "35/35 [==============================] - 0s 2ms/step - loss: 2308.4626 - val_loss: 3062.8911\n",
      "Epoch 116/150\n",
      "35/35 [==============================] - 0s 2ms/step - loss: 2456.5474 - val_loss: 3037.3003\n",
      "Epoch 117/150\n",
      "35/35 [==============================] - 0s 2ms/step - loss: 2248.5378 - val_loss: 2997.0461\n",
      "Epoch 118/150\n",
      "35/35 [==============================] - 0s 2ms/step - loss: 2371.0134 - val_loss: 2977.3391\n",
      "Epoch 119/150\n",
      "35/35 [==============================] - 0s 2ms/step - loss: 2369.3091 - val_loss: 3048.6980\n",
      "Epoch 120/150\n",
      "35/35 [==============================] - 0s 2ms/step - loss: 2313.3560 - val_loss: 3170.6177\n",
      "Epoch 121/150\n",
      "35/35 [==============================] - 0s 2ms/step - loss: 2298.7817 - val_loss: 2950.6292\n",
      "Epoch 122/150\n",
      "35/35 [==============================] - 0s 2ms/step - loss: 2321.7043 - val_loss: 3039.4045\n",
      "Epoch 123/150\n",
      "35/35 [==============================] - 0s 2ms/step - loss: 2311.2947 - val_loss: 3026.0442\n",
      "Epoch 124/150\n",
      "35/35 [==============================] - 0s 2ms/step - loss: 2329.8650 - val_loss: 3074.7854\n",
      "Epoch 125/150\n",
      "35/35 [==============================] - 0s 1ms/step - loss: 2271.3489 - val_loss: 3021.8020\n",
      "Epoch 126/150\n",
      "35/35 [==============================] - 0s 2ms/step - loss: 2294.4595 - val_loss: 3066.7090\n",
      "Epoch 127/150\n",
      "35/35 [==============================] - 0s 2ms/step - loss: 2365.9280 - val_loss: 2974.8987\n",
      "Epoch 128/150\n",
      "35/35 [==============================] - 0s 2ms/step - loss: 2258.4070 - val_loss: 2940.0461\n",
      "Epoch 129/150\n",
      "35/35 [==============================] - 0s 2ms/step - loss: 2351.5808 - val_loss: 2925.0679\n",
      "Epoch 130/150\n",
      "35/35 [==============================] - 0s 2ms/step - loss: 2488.2327 - val_loss: 3149.3672\n",
      "Epoch 131/150\n",
      "35/35 [==============================] - 0s 2ms/step - loss: 2304.1467 - val_loss: 3015.8237\n",
      "Epoch 132/150\n",
      "35/35 [==============================] - 0s 2ms/step - loss: 2296.4385 - val_loss: 3033.2358\n",
      "Epoch 133/150\n",
      "35/35 [==============================] - 0s 2ms/step - loss: 2287.8174 - val_loss: 2873.3665\n",
      "Epoch 134/150\n",
      "35/35 [==============================] - 0s 2ms/step - loss: 2242.9233 - val_loss: 3055.6885\n",
      "Epoch 135/150\n",
      "35/35 [==============================] - 0s 2ms/step - loss: 2303.1895 - val_loss: 3090.8550\n",
      "Epoch 136/150\n",
      "35/35 [==============================] - 0s 2ms/step - loss: 2256.2190 - val_loss: 3060.8469\n",
      "Epoch 137/150\n",
      "35/35 [==============================] - 0s 2ms/step - loss: 2299.6238 - val_loss: 2934.6099\n",
      "Epoch 138/150\n",
      "35/35 [==============================] - 0s 3ms/step - loss: 2276.5874 - val_loss: 2940.7986\n",
      "Epoch 139/150\n",
      "35/35 [==============================] - 0s 4ms/step - loss: 2284.3765 - val_loss: 3054.9351\n",
      "Epoch 140/150\n",
      "35/35 [==============================] - 0s 4ms/step - loss: 2303.9136 - val_loss: 2969.7356\n",
      "Epoch 141/150\n",
      "35/35 [==============================] - 0s 4ms/step - loss: 2286.7959 - val_loss: 3031.0017\n",
      "Epoch 142/150\n",
      "35/35 [==============================] - 0s 4ms/step - loss: 2317.8657 - val_loss: 2956.2998\n",
      "Epoch 143/150\n",
      "35/35 [==============================] - 0s 3ms/step - loss: 2269.2766 - val_loss: 3028.7148\n",
      "Epoch 144/150\n",
      "35/35 [==============================] - 0s 2ms/step - loss: 2294.6960 - val_loss: 3041.2803\n",
      "Epoch 145/150\n",
      "35/35 [==============================] - 0s 2ms/step - loss: 2296.6140 - val_loss: 3088.6812\n",
      "Epoch 146/150\n",
      "35/35 [==============================] - 0s 4ms/step - loss: 2260.4270 - val_loss: 2942.5012\n",
      "Epoch 147/150\n",
      "35/35 [==============================] - 0s 2ms/step - loss: 2293.2478 - val_loss: 2972.3330\n",
      "Epoch 148/150\n",
      "35/35 [==============================] - 0s 2ms/step - loss: 2237.3530 - val_loss: 3046.1235\n",
      "Epoch 149/150\n",
      "35/35 [==============================] - 0s 2ms/step - loss: 2305.1975 - val_loss: 3022.8679\n",
      "Epoch 150/150\n",
      "35/35 [==============================] - 0s 2ms/step - loss: 2231.5581 - val_loss: 3109.1479\n"
     ]
    }
   ],
   "source": [
    "#tstart = tf.timestamp()\n",
    "history = model.fit(X_train, y_train, \n",
    "                    epochs=epochs,batch_size=batch_size,\n",
    "                    validation_split = 0.2) # Data for evaluation\n",
    "#total_time = tf.timestamp() - tstart\n",
    "#print(\"total time %3.3f seconds\"%total_time)"
   ]
  },
  {
   "cell_type": "code",
   "execution_count": 76,
   "id": "debdc3fb",
   "metadata": {},
   "outputs": [],
   "source": [
    "loss = pd.DataFrame(model.history.history)"
   ]
  },
  {
   "cell_type": "code",
   "execution_count": 77,
   "id": "7b5465de",
   "metadata": {},
   "outputs": [
    {
     "data": {
      "text/plain": [
       "<AxesSubplot:>"
      ]
     },
     "execution_count": 77,
     "metadata": {},
     "output_type": "execute_result"
    },
    {
     "data": {
      "image/png": "[encoded data removed]",
      "text/plain": [
       "<Figure size 432x288 with 1 Axes>"
      ]
     },
     "metadata": {
      "needs_background": "light"
     },
     "output_type": "display_data"
    }
   ],
   "source": [
    "loss.plot()"
   ]
  },
  {
   "cell_type": "code",
   "execution_count": 78,
   "id": "6e2b2525",
   "metadata": {},
   "outputs": [
    {
     "data": {
      "text/plain": [
       "0.6080953162456413"
      ]
     },
     "execution_count": 78,
     "metadata": {},
     "output_type": "execute_result"
    }
   ],
   "source": [
    "r2_score(y_test, model.predict(X_test))"
   ]
  },
  {
   "cell_type": "code",
   "execution_count": null,
   "id": "f48469d0",
   "metadata": {},
   "outputs": [],
   "source": []
  }
 ],
 "metadata": {
  "kernelspec": {
   "display_name": "Python 3",
   "language": "python",
   "name": "python3"
  },
  "language_info": {
   "codemirror_mode": {
    "name": "ipython",
    "version": 3
   },
   "file_extension": ".py",
   "mimetype": "text/x-python",
   "name": "python",
   "nbconvert_exporter": "python",
   "pygments_lexer": "ipython3",
   "version": "3.8.8"
  }
 },
 "nbformat": 4,
 "nbformat_minor": 5
}
